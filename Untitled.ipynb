{
 "cells": [
  {
   "cell_type": "code",
   "execution_count": 25,
   "id": "ee82d46b",
   "metadata": {},
   "outputs": [
    {
     "name": "stdout",
     "output_type": "stream",
     "text": [
      "there are  3600  seconds per hour\n",
      "there are  216000  seconds per day\n",
      "seconds per day / seconds per hour is  60.0\n",
      "seconds per day // seconds per hour is  60\n",
      "both have the same value\n"
     ]
    }
   ],
   "source": [
    "seconds_per_hour = 60 * 60\n",
    "\n",
    "seconds_per_day = seconds_per_hour * 60\n",
    "\n",
    "print (\"there are \",seconds_per_hour,\" seconds per hour\")\n",
    "\n",
    "print (\"there are \",seconds_per_day,\" seconds per day\")\n",
    "\n",
    "print (\"seconds per day / seconds per hour is \", seconds_per_day/seconds_per_hour)\n",
    "\n",
    "print (\"seconds per day // seconds per hour is \",seconds_per_day//seconds_per_hour)\n",
    "\n",
    "print (\"both have the same value\")\n",
    "\n",
    "# the output of / gives us floating number\n",
    "# but the output of // gives us an integer number \n",
    "# means both of them have the same value"
   ]
  }
 ],
 "metadata": {
  "kernelspec": {
   "display_name": "Python 3 (ipykernel)",
   "language": "python",
   "name": "python3"
  },
  "language_info": {
   "codemirror_mode": {
    "name": "ipython",
    "version": 3
   },
   "file_extension": ".py",
   "mimetype": "text/x-python",
   "name": "python",
   "nbconvert_exporter": "python",
   "pygments_lexer": "ipython3",
   "version": "3.10.9"
  }
 },
 "nbformat": 4,
 "nbformat_minor": 5
}
